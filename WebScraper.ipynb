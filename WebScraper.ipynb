{
  "nbformat": 4,
  "nbformat_minor": 0,
  "metadata": {
    "colab": {
      "provenance": [],
      "authorship_tag": "ABX9TyNgYsYdgijMlJ10jbCgbGOn",
      "include_colab_link": true
    },
    "kernelspec": {
      "name": "python3",
      "display_name": "Python 3"
    },
    "language_info": {
      "name": "python"
    }
  },
  "cells": [
    {
      "cell_type": "markdown",
      "metadata": {
        "id": "view-in-github",
        "colab_type": "text"
      },
      "source": [
        "<a href=\"https://colab.research.google.com/github/siddharthapramanik771/AmazonWebScraper/blob/main/WebScraper.ipynb\" target=\"_parent\"><img src=\"https://colab.research.google.com/assets/colab-badge.svg\" alt=\"Open In Colab\"/></a>"
      ]
    },
    {
      "cell_type": "code",
      "source": [
        "!pip install bs4\n",
        "!pip install lxml\n",
        "!pip install requests"
      ],
      "metadata": {
        "colab": {
          "base_uri": "https://localhost:8080/"
        },
        "id": "pDDp34_JAxF_",
        "outputId": "c4ced3cc-d110-4efd-ce09-506cef826c7c"
      },
      "execution_count": null,
      "outputs": [
        {
          "output_type": "stream",
          "name": "stdout",
          "text": [
            "Looking in indexes: https://pypi.org/simple, https://us-python.pkg.dev/colab-wheels/public/simple/\n",
            "Requirement already satisfied: bs4 in /usr/local/lib/python3.7/dist-packages (0.0.1)\n",
            "Requirement already satisfied: beautifulsoup4 in /usr/local/lib/python3.7/dist-packages (from bs4) (4.6.3)\n",
            "Looking in indexes: https://pypi.org/simple, https://us-python.pkg.dev/colab-wheels/public/simple/\n",
            "Requirement already satisfied: lxml in /usr/local/lib/python3.7/dist-packages (4.9.1)\n",
            "Looking in indexes: https://pypi.org/simple, https://us-python.pkg.dev/colab-wheels/public/simple/\n",
            "Requirement already satisfied: requests in /usr/local/lib/python3.7/dist-packages (2.23.0)\n",
            "Requirement already satisfied: certifi>=2017.4.17 in /usr/local/lib/python3.7/dist-packages (from requests) (2022.9.24)\n",
            "Requirement already satisfied: idna<3,>=2.5 in /usr/local/lib/python3.7/dist-packages (from requests) (2.10)\n",
            "Requirement already satisfied: chardet<4,>=3.0.2 in /usr/local/lib/python3.7/dist-packages (from requests) (3.0.4)\n",
            "Requirement already satisfied: urllib3!=1.25.0,!=1.25.1,<1.26,>=1.21.1 in /usr/local/lib/python3.7/dist-packages (from requests) (1.25.11)\n"
          ]
        }
      ]
    },
    {
      "cell_type": "code",
      "source": [
        "from bs4 import BeautifulSoup\n",
        "import requests\n",
        "import pandas as pd\n",
        "\n",
        "# masterlist to save the items\n",
        "items = []\n",
        "\n",
        "def get_data(key_word,pages):\n",
        "  headers = {'User-Agent':'Mozilla/5.0 (Windows NT 10.0; Win64; x64) AppleWebKit/537.36 (KHTML, like Gecko) Chrome/58.0.3029.110 Safari/537.3'}\n",
        "  source = requests.get('https://www.amazon.in/s?k={}&page={}'.format(key_word,pages), headers = headers).text\n",
        "  soup = BeautifulSoup(source, 'lxml')\n",
        "  return soup\n",
        "\n",
        "\n",
        "def process_data(data):\n",
        "  for i in data.find_all('div', class_='a-section a-spacing-small a-spacing-top-small'):\n",
        "    # print(i)\n",
        "    result= i.find_all('span', class_='a-size-medium a-color-base a-text-normal')\n",
        "    if len(result)>0:\n",
        "      name = result[0].text.strip()\n",
        "      try:\n",
        "        price = i.find_all('span', class_='a-price-whole')[0].text\n",
        "      except:\n",
        "        price = ''  \n",
        "      try:\n",
        "        rating = i.find_all('span', class_='a-icon-alt')[0].text\n",
        "      except:\n",
        "        rating = ''  \n",
        "      try:\n",
        "        link = i.find_all('a',class_='a-link-normal s-underline-text s-underline-link-text s-link-style a-text-normal')\n",
        "        link = 'https://www.amazon.in'+link[0]['href']\n",
        "      except:\n",
        "        link = ''  \n",
        "      items.append({'Name':name,'Price':price,'Rating':rating,'Link':link})\n",
        "\n",
        "keyword = input('write the keyword ')\n",
        "no_of_pages = int(input('type the no of pages '))\n",
        "for i in range(no_of_pages):\n",
        "  data=get_data(keyword,i+1)\n",
        "  process_data(data)\n",
        "df = pd.DataFrame.from_dict(items)\n",
        "df.to_csv(keyword+'.csv')"
      ],
      "metadata": {
        "colab": {
          "base_uri": "https://localhost:8080/"
        },
        "id": "6xlSLUl_iH_E",
        "outputId": "03717dc5-afad-4430-d968-b121125fd0b0"
      },
      "execution_count": null,
      "outputs": [
        {
          "name": "stdout",
          "output_type": "stream",
          "text": [
            "write the keyword laptop\n",
            "type the no of pages 5\n"
          ]
        }
      ]
    }
  ]
}